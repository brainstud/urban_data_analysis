{
 "cells": [
  {
   "cell_type": "markdown",
   "metadata": {},
   "source": [
    "**Поместите данный файл в директорию, где находится библиотека CityGeoTools для корректного вызова метода DataImputer**"
   ]
  },
  {
   "cell_type": "code",
   "execution_count": null,
   "metadata": {},
   "outputs": [],
   "source": [
    "import gevent.monkey\n",
    "gevent.monkey.patch_all()\n",
    "\n",
    "import osm2geojson\n",
    "import geopandas as gpd\n",
    "import pandas as pd\n",
    "import numpy as np\n",
    "import grequests\n",
    "import requests\n",
    "import shapely\n",
    "import sys\n",
    "\n",
    "# import warnings\n",
    "# warnings.filterwarnings('ignore')\n",
    "\n",
    "from tqdm import tqdm"
   ]
  },
  {
   "cell_type": "code",
   "execution_count": null,
   "metadata": {},
   "outputs": [],
   "source": [
    "# геокодирование - получаем координаты x,y по адресу объекта\n",
    "\n",
    "with open(\"./keys.txt\") as f:\n",
    "    api_keys = f.read().splitlines()\n",
    "\n",
    "urls = []\n",
    "api_key_counter = 0\n",
    "for i, adr in enumerate(list(buildings_gkh[\"address\"])):\n",
    "    if i%24500 == 0 and i != 0:\n",
    "        api_key_counter += 1\n",
    "    urls.append(yandex_create_urls(adr, api_keys[api_key_counter]))\n",
    "yandex_geocoded_data = yandex_geocode(urls)\n",
    "gkh_geometry = pd.DataFrame(yandex_geocoded_data)"
   ]
  },
  {
   "cell_type": "code",
   "execution_count": null,
   "metadata": {},
   "outputs": [],
   "source": [
    "gkh_geometry = pd.read_json(\"/var/essdata/IDU/other/mm_22/dpo/gkh_geometry.json\")"
   ]
  },
  {
   "cell_type": "code",
   "execution_count": null,
   "metadata": {},
   "outputs": [],
   "source": [
    "# создаем объект shapely (Point) из координат x,y\n",
    "# конвертируем DataFrame в GeoDataFrame, присваем проекцию\n",
    "\n",
    "gkh_geometry = gkh_geometry[(gkh_geometry[\"x\"] !=0) & (gkh_geometry[\"y\"] !=0)]\n",
    "buildings_gkh[\"geometry\"] = pd.DataFrame(gkh_geometry).apply(\n",
    "    lambda row: shapely.geometry.Point(row.y, row.x), axis=1\n",
    "    )\n",
    "\n",
    "# удаляем из датасета объекты, для которых в ходе геокодирования не подобрались координаты\n",
    "buildings_gkh = gpd.GeoDataFrame(buildings_gkh).set_crs(4326).to_crs(32636)\n",
    "buildings_gkh = buildings_gkh.dropna(subset=[\"geometry\"]).reset_index(drop=True)\n",
    "\n",
    "# присоединяем полигональную геометрию к датасету с Реформы ЖКХ\n",
    "buildings_gkh[\"geometry\"] = buildings_gkh[\"geometry\"].buffer(10)\n",
    "buildings_gkh = buildings_gkh.sjoin(buildings[[\"geometry\"]], how=\"inner\")\n",
    "buildings_gkh = buildings_gkh.reset_index().drop_duplicates(subset=[\"index\"]).drop([\"index\"], axis=1)"
   ]
  },
  {
   "cell_type": "code",
   "execution_count": null,
   "metadata": {},
   "outputs": [],
   "source": [
    "buildings_gkh[\"heating_type\"].unique()\n",
    "# Центральное - 1\n",
    "# Не заполнено - 2\n",
    "# Автономная - 3\n",
    "\n",
    "# One-Hot encoding"
   ]
  },
  {
   "cell_type": "code",
   "execution_count": null,
   "metadata": {},
   "outputs": [],
   "source": [
    "# Прелдобработка датасета для восстановления данных:\n",
    "# 1. Признаки должны быть информативны.\n",
    "# 2. Все значения должны быть числовые.\n",
    "# 3. Набор данных должен быть сохранен в geojson файл.\n",
    "\n",
    "\n",
    "# Удаляем малоинформативный признаки с индексами и адресом.\n",
    "buildings_gkh = buildings_gkh.drop([\"address\", \"index_right\"], axis=1)\n",
    "\n",
    "# Приводим значения признаков area_total, area_residential и heating_type к числовым\n",
    "def replace_comma(value):\n",
    "    if type(value) == str:\n",
    "        return float(value.replace(\",\", \".\"))\n",
    "    else:\n",
    "        return value\n",
    "        \n",
    "buildings_gkh[\"area_total\"] = buildings_gkh[\"area_total\"].apply(lambda x: replace_comma(x))\n",
    "buildings_gkh[\"area_residential\"] = buildings_gkh[\"area_residential\"].apply(lambda x: replace_comma(x))\n",
    "buildings_gkh[\"heating_type\"] = buildings_gkh[\"heating_type\"].apply(lambda x: 0 if x == \"Отсутствует\" else 1)\n",
    "\n",
    "# Сохраняет GeoDataFrame в geojson\n",
    "# buildings_gkh.to_file(\"./buildings_gkh.geojson\", driver=\"GeoJSON\")"
   ]
  },
  {
   "cell_type": "code",
   "execution_count": null,
   "metadata": {},
   "outputs": [],
   "source": [
    "buildings_gkh = gpd.read_file(\"./buildings_gkh.geojson\")"
   ]
  },
  {
   "cell_type": "code",
   "execution_count": null,
   "metadata": {},
   "outputs": [],
   "source": [
    "buildings_gkh"
   ]
  },
  {
   "cell_type": "code",
   "execution_count": null,
   "metadata": {},
   "outputs": [],
   "source": [
    "# path to folder to CityGeoTools\n",
    "folder = \"/var/essdata/IDU/other/mm_22/teaching_2023/CityGeoTools\"\n",
    "sys.path.append(folder)\n",
    "\n",
    "from data_imputer.imputer import DataImputer\n",
    "dataset_path = \"./buildings_gkh.geojson\"\n",
    "imputer = DataImputer(dataset_path)\n",
    "imputer.add_neighbors_features()\n",
    "full_data = imputer.multiple_imputation(save_models=False, save_logs=False)"
   ]
  },
  {
   "cell_type": "code",
   "execution_count": null,
   "metadata": {},
   "outputs": [],
   "source": [
    "full_data"
   ]
  },
  {
   "cell_type": "code",
   "execution_count": null,
   "metadata": {},
   "outputs": [],
   "source": [
    "full_data[buildings_gkh.columns].isna().sum()"
   ]
  },
  {
   "cell_type": "code",
   "execution_count": null,
   "metadata": {},
   "outputs": [],
   "source": [
    "import matplotlib.pyplot as plt\n",
    "full_data[buildings_gkh.columns].drop(['geometry'], axis=1).hist(bins=50,figsize=(15,15))\n",
    "plt.show()"
   ]
  }
 ],
 "metadata": {
  "kernelspec": {
   "display_name": "Python 3.9.15 ('common_venv')",
   "language": "python",
   "name": "python3"
  },
  "language_info": {
   "codemirror_mode": {
    "name": "ipython",
    "version": 3
   },
   "file_extension": ".py",
   "mimetype": "text/x-python",
   "name": "python",
   "nbconvert_exporter": "python",
   "pygments_lexer": "ipython3",
   "version": "3.9.0"
  },
  "orig_nbformat": 4,
  "vscode": {
   "interpreter": {
    "hash": "7670ac83fdd1c212b41bd83cc29098e9d8ea104aed818972b6b1c02791ee2b7b"
   }
  }
 },
 "nbformat": 4,
 "nbformat_minor": 2
}
